{
 "cells": [
  {
   "cell_type": "markdown",
   "metadata": {},
   "source": [
    "# Use Uber movement data to conduct speed prediction for each given street\n",
    "\n",
    "The data is downloaded from Uber movement website. Here, we only use data from Feb 2020 for Seattle area (GPS coordinates of the data area: -122.447676, 47.510547, -122.265260, 47.734649\"). \n",
    "\n",
    "This data have been procseed, and merged with some other data source. The data we use is save in hist_adj_select_weather.csv'."
   ]
  },
  {
   "cell_type": "code",
   "execution_count": 8,
   "metadata": {},
   "outputs": [],
   "source": [
    "import csv, time, pickle\n",
    "import pandas as pd\n",
    "import json\n",
    "import matplotlib.pyplot as plt\n",
    "import sklearn as sk\n",
    "import numpy as np\n",
    "from sklearn.model_selection import train_test_split\n",
    "from sklearn.ensemble import RandomForestRegressor\n",
    "import sklearn"
   ]
  },
  {
   "cell_type": "markdown",
   "metadata": {},
   "source": [
    "### Data loading and preparation\n",
    "The data here is more than the orginal data that we downloaded from uber movement data. For this project, we only use the data from Feb, 2020.\n",
    "- There are features from orginial Uber movement data or slightly derived from original data, such as 'hour', 'weekday', 'rush_hour', 'osmhighway'.\n",
    "- There are features that we use osmwayid and GeoJson data to derive, mainly use the GPS coordinates of the street's start node and end node to derive 'direction' of a street, 'max_speed'.\n",
    "- There are features about the weather information, that we downloaded from https://www.wunderground.com/. "
   ]
  },
  {
   "cell_type": "code",
   "execution_count": 4,
   "metadata": {},
   "outputs": [
    {
     "name": "stdout",
     "output_type": "stream",
     "text": [
      "Total number of 3481341 observations\n",
      "Index(['Unnamed: 0', 'weekend_or_weekday', 'hour', 'weekday', 'rush_hour',\n",
      "       'osmhighway', 'osmhighway_adj', 'max_speed', 'day', 'speed_mph_mean',\n",
      "       'speed_mph_qtr_mean', 'speed_mph_qtr_std', 'speed_diff', 'osmdistance',\n",
      "       'direction', 'osmstartnodelon', 'osmstartnodelat', 'osmendnodelon',\n",
      "       'osmendnodelat', 'station', 'Temperature', 'Wind', 'Rain',\n",
      "       'osmhighway_num', 'direction_num'],\n",
      "      dtype='object')\n"
     ]
    }
   ],
   "source": [
    "# READ all the parameters from the prepared data file \n",
    "filename  = 'hist_adj_select_weather.csv' # the output file name in the folder.                          \n",
    "df = pd.read_csv(filename )               # read the data in as pandas data frame\n",
    "parameters_value  = df.values             # all the parameter values\n",
    "parameters_name   = df.keys()   \n",
    "print(\"Total number of \" + str(len(df)) + \" observations\")\n",
    "print(parameters_name)"
   ]
  },
  {
   "cell_type": "markdown",
   "metadata": {},
   "source": [
    "### Use features that are useful to build the model\n",
    "We have conduct numerous experiemnts to understand the impact of the data. We have concluded that there are many features that is not useful for conduct speed or speed difference prediction. We are not showing the work here. \n",
    "\n",
    "Below are some features that down selected for our final project. There are 4 features that are important to condcut the prediction: 'hour', 'speed_mph_qtr_std', 'weekday', 'max_speed'.\n",
    "\n",
    "'day' feature we leave it here, because we will later split the data based on the day of the month. We use the first 3 weeks of Feb data as training data, and the last week of Feb data as testing data. \n",
    "\n",
    "In the case of predict speed difference (the difference between the estimated speed and quarterly mean), 'speed_mph_qtr_mean' (quarterly aggregated average speed for a particular hour) will be used to back calculate the current estimated speed when obtain a predicted speed difference. At this time 'speed_diff' will be our y in prediction. \n",
    "\n",
    "In the case of predict the speed directly, 'speed_mph_mean' is the mean. "
   ]
  },
  {
   "cell_type": "code",
   "execution_count": 5,
   "metadata": {},
   "outputs": [],
   "source": [
    "\n",
    "# only select the top 4 features for training. \n",
    "# the first row here is the top 4 features,\n",
    "# the second row here is variables that will be needed to split data and \n",
    "# back calculate the speed after speed_diff prediction\n",
    "features = df[[ 'hour',  'speed_mph_qtr_std',  'weekday', 'max_speed',\\\n",
    "                 'day', 'speed_mph_qtr_mean',  'speed_mph_mean' ,\\\n",
    "                 'speed_diff']]"
   ]
  },
  {
   "cell_type": "markdown",
   "metadata": {},
   "source": [
    "### Here we show how to use the features to conduct speed difference prediction\n",
    "We will split the data based on the day of the Feb 2020. \n",
    "Roughly, we use the first three weeks as training data, and the last week as the testing data. "
   ]
  },
  {
   "cell_type": "code",
   "execution_count": 6,
   "metadata": {},
   "outputs": [
    {
     "name": "stdout",
     "output_type": "stream",
     "text": [
      "Training Features Shape: (2592181, 4)\n",
      "Training Labels Shape: (2592181,)\n",
      "Testing Features Shape: (889160, 4)\n",
      "Testing Labels Shape: (889160,)\n",
      "Testing quarterly speed Shape: (889160,)\n"
     ]
    }
   ],
   "source": [
    "# split data into training and testing sets\n",
    "\n",
    "# Split the data into training and testing sets\n",
    "# train_features, test_features, train_labels, test_labels = train_test_split(features2, labels, test_size = 0.25, \n",
    "#                                                                             random_state = 42)\n",
    "# !!! predict the speed difference from quaterly agg data.\n",
    "# !!! after predict, we can use the predict diff to add back to the quaterly agg data. \n",
    "# !!! use the last week for test, previous data used as training data\n",
    "\n",
    "is_train =  features['day']< 22\n",
    "train = features[is_train]\n",
    "is_test = features['day']>= 22\n",
    "test = features[is_test]\n",
    "\n",
    "# feature\n",
    "\n",
    "train_features = train.drop([\"speed_diff\",\"day\", 'speed_mph_mean','speed_mph_qtr_mean'], axis = 1)  \n",
    "test_features = test.drop([\"speed_diff\",\"day\", 'speed_mph_mean', 'speed_mph_qtr_mean'], axis = 1)    \n",
    "   \n",
    "\n",
    "feature_list = list(train_features.columns)  # list of strings\n",
    "\n",
    "train_features = np.array(train_features)\n",
    "test_features = np.array(test_features)\n",
    "\n",
    "\n",
    "# labels\n",
    "train_labels = train[[\"speed_diff\"]]\n",
    "test_labels = test[[\"speed_diff\"]]\n",
    "# quarterly speed mean is not used to conduct speed diff prediction,\n",
    "# but used to calculate the final estimate speed outcome\n",
    "test_qart_speed = test[['speed_mph_qtr_mean']]  # quaterly speed\n",
    "test_mean_speed = test[['speed_mph_mean']]      # mean speed of this road a day\n",
    "\n",
    "train_labels = np.array(train_labels)[:,0]\n",
    "test_labels = np.array(test_labels)[:,0]\n",
    "\n",
    "test_qart_speed = np.array(test_qart_speed)[:,0]\n",
    "test_mean_speed = np.array(test_mean_speed)[:,0]\n",
    "\n",
    "print('Training Features Shape:',       train_features.shape)\n",
    "print('Training Labels Shape:',         train_labels.shape)\n",
    "print('Testing Features Shape:',        test_features.shape)\n",
    "print('Testing Labels Shape:',          test_labels.shape)\n",
    "\n",
    "print('Testing quarterly speed Shape:', test_qart_speed.shape)"
   ]
  },
  {
   "cell_type": "markdown",
   "metadata": {},
   "source": [
    "### Train a random forest regressor based model\n",
    "Here, we will use number of trees 20, and depth as 18 to train the mode. We have conduct the hyperparameter tunning experiment to show that the performance of the model will not be improved after number of trees is 100. The fact that when number of trees is 20, the performance is already close to what is when the nubmer of trees is 100. We are not showing the hyperparameter tunning experiment results here. \n",
    "\n",
    "But just use the parameter number of trees 100, and depth 18 to show how to conduct the training. "
   ]
  },
  {
   "cell_type": "code",
   "execution_count": 11,
   "metadata": {},
   "outputs": [
    {
     "name": "stderr",
     "output_type": "stream",
     "text": [
      "[Parallel(n_jobs=-1)]: Using backend ThreadingBackend with 8 concurrent workers.\n",
      "[Parallel(n_jobs=-1)]: Done  34 tasks      | elapsed:   23.3s\n",
      "[Parallel(n_jobs=-1)]: Done 100 out of 100 | elapsed:  1.0min finished\n"
     ]
    }
   ],
   "source": [
    "#%%  Train the model \n",
    "my_num = 100; my_depth =  18;\n",
    "\n",
    "model = RandomForestRegressor(n_estimators = my_num, random_state = 42, \n",
    "                              max_depth=my_depth, n_jobs = -1,\n",
    "                              oob_score = True,  \n",
    "                              max_features='sqrt', \n",
    "                              min_samples_leaf = 25,\n",
    "                              verbose = 1,  \n",
    "                              bootstrap=True, \n",
    "                              max_samples  = 0.8) \n",
    "model.fit(train_features, train_labels); # Train the model on training data\n"
   ]
  },
  {
   "cell_type": "markdown",
   "metadata": {},
   "source": [
    "### back calculate the speed\n",
    "We will add the predcited speed difference onto the quarterly mean, to estimated what is the current predicted speed for this street. \n",
    "\n",
    "We use Mean Absolute Percentage Error (MAPE) to quantify how well our model performs. "
   ]
  },
  {
   "cell_type": "code",
   "execution_count": 13,
   "metadata": {},
   "outputs": [
    {
     "name": "stderr",
     "output_type": "stream",
     "text": [
      "[Parallel(n_jobs=8)]: Using backend ThreadingBackend with 8 concurrent workers.\n",
      "[Parallel(n_jobs=8)]: Done  34 tasks      | elapsed:    0.7s\n"
     ]
    },
    {
     "name": "stdout",
     "output_type": "stream",
     "text": [
      "Mean Absolute Error: 2.01 degrees.\n",
      "MAPE Accuracy: 89.66 %.\n"
     ]
    },
    {
     "name": "stderr",
     "output_type": "stream",
     "text": [
      "[Parallel(n_jobs=8)]: Done 100 out of 100 | elapsed:    2.0s finished\n"
     ]
    }
   ],
   "source": [
    "\n",
    "# Predict my speed diff, add speed diff back to the quarterly mean\n",
    "predictions_diff = model.predict(test_features)\n",
    "predictions      = predictions_diff + test_qart_speed # add predict diff back to speed mean\n",
    "test_outcome     = test_mean_speed   \n",
    "predictions_diff_speed = predictions\n",
    "\n",
    "# Calculate the absolute errors between the estimated predicted speed and reald mean speed in test data\n",
    "errors = abs(predictions - test_outcome) \n",
    "print('Mean Absolute Error:', round(np.mean(errors), 2), 'degrees.')\n",
    "\n",
    "# calculate accuracy\n",
    "mape = 100 * (errors / test_outcome) # Calculate mean absolute percentage error (MAPE)\n",
    "accuracy0 = 100 - np.mean(mape)      # Calculate and display accuracy\n",
    "print('MAPE Accuracy:', round(accuracy0, 2), '%.')\n"
   ]
  },
  {
   "cell_type": "markdown",
   "metadata": {},
   "source": [
    "### Visualize the predicted results\n",
    "Plot the first 1000 observations to see. "
   ]
  },
  {
   "cell_type": "code",
   "execution_count": 15,
   "metadata": {},
   "outputs": [
    {
     "data": {
      "text/plain": [
       "<matplotlib.legend.Legend at 0x7ff6a023fbb0>"
      ]
     },
     "execution_count": 15,
     "metadata": {},
     "output_type": "execute_result"
    },
    {
     "data": {
      "image/png": "[encoded data removed]",
      "text/plain": [
       "<Figure size 432x288 with 1 Axes>"
      ]
     },
     "metadata": {
      "needs_background": "light"
     },
     "output_type": "display_data"
    }
   ],
   "source": [
    "#%%\n",
    "test_labels_speed = test_labels + test_qart_speed # for test data, add the speed diff back to the quaterly mean\n",
    "\n",
    "plt.figure()\n",
    "plt.plot(test_labels_speed[0:1000], '--.')\n",
    "plt.plot(predictions[0:1000], '--.')\n",
    "plt.legend(['true','pred'])\n"
   ]
  },
  {
   "cell_type": "markdown",
   "metadata": {},
   "source": [
    "### Look at the importance of our training features"
   ]
  },
  {
   "cell_type": "code",
   "execution_count": 16,
   "metadata": {},
   "outputs": [
    {
     "name": "stdout",
     "output_type": "stream",
     "text": [
      "Variable: hour                 Importance: 0.29\n",
      "Variable: weekday              Importance: 0.28\n",
      "Variable: speed_mph_qtr_std    Importance: 0.27\n",
      "Variable: max_speed            Importance: 0.17\n"
     ]
    },
    {
     "data": {
      "image/png": "[encoded data removed]",
      "text/plain": [
       "<Figure size 360x360 with 1 Axes>"
      ]
     },
     "metadata": {
      "needs_background": "light"
     },
     "output_type": "display_data"
    }
   ],
   "source": [
    "\n",
    "# variable importance\n",
    "importances = list(model.feature_importances_)\n",
    "# List of tuples with variable and importance\n",
    "feature_importances = [(feature, round(importance, 2)) for feature, importance in zip(feature_list, importances)]\n",
    "# Sort the feature importances by most important first\n",
    "feature_importances = sorted(feature_importances, key = lambda x: x[1], reverse = True)\n",
    "# Print out the feature and importances \n",
    "[print('Variable: {:20} Importance: {}'.format(*pair)) for pair in feature_importances];\n",
    "\n",
    "\n",
    "plt.rcParams.update({'figure.autolayout': True})\n",
    "\n",
    "#plt.rcdefaults()\n",
    "fig, ax = plt.subplots(figsize=(5,5))\n",
    "\n",
    "# Example data\n",
    "#people = ('Tom', 'Dick', 'Harry', 'Slim', 'Jim')\n",
    "y_pos = np.arange(len(feature_list))\n",
    "#performance = 3 + 10 * np.random.rand(len(feature_list))\n",
    "error = np.random.rand(len(feature_list))\n",
    "\n",
    "ax.barh(y_pos, importances, align='center')\n",
    "ax.set_yticks(y_pos)\n",
    "ax.set_yticklabels(feature_list)\n",
    "ax.invert_yaxis()  # labels read top-to-bottom\n",
    "ax.set_xlabel('Feature importance')\n",
    "ax.set_title('Feature importance')\n",
    "\n",
    "plt.show()"
   ]
  },
  {
   "cell_type": "code",
   "execution_count": null,
   "metadata": {},
   "outputs": [],
   "source": []
  }
 ],
 "metadata": {
  "kernelspec": {
   "display_name": "Python 3",
   "language": "python",
   "name": "python3"
  },
  "language_info": {
   "codemirror_mode": {
    "name": "ipython",
    "version": 3
   },
   "file_extension": ".py",
   "mimetype": "text/x-python",
   "name": "python",
   "nbconvert_exporter": "python",
   "pygments_lexer": "ipython3",
   "version": "3.8.5"
  }
 },
 "nbformat": 4,
 "nbformat_minor": 4
}
